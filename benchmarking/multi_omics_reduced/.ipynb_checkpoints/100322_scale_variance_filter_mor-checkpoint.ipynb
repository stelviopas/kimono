{
 "cells": [
  {
   "cell_type": "code",
   "execution_count": 21,
   "id": "alert-reception",
   "metadata": {},
   "outputs": [],
   "source": [
    "library(data.table)"
   ]
  },
  {
   "cell_type": "code",
   "execution_count": null,
   "id": "surgical-climb",
   "metadata": {},
   "outputs": [],
   "source": []
  },
  {
   "cell_type": "code",
   "execution_count": null,
   "id": "gross-forty",
   "metadata": {},
   "outputs": [],
   "source": []
  },
  {
   "cell_type": "code",
   "execution_count": null,
   "id": "challenging-malta",
   "metadata": {},
   "outputs": [],
   "source": [
    "input = \"/home/icb/juan.henao/lasso_benchmark/input_data/100322_multi_omics_benchmark.RData\"\n",
    "    cores = 2\n",
    "    bench_params = c(0.90,1)"
   ]
  },
  {
   "cell_type": "code",
   "execution_count": 55,
   "id": "rolled-arnold",
   "metadata": {},
   "outputs": [],
   "source": [
    "load(input)\n",
    "\n",
    "white_noise <- bench_params[2]\n",
    "missingness <- bench_params[1]"
   ]
  },
  {
   "cell_type": "code",
   "execution_count": 39,
   "id": "unlikely-communications",
   "metadata": {},
   "outputs": [
    {
     "name": "stdout",
     "output_type": "stream",
     "text": [
      "[1]   604 11530\n",
      "[1]  604 1366\n",
      "[1] 604  84\n",
      "[1] 604   2\n"
     ]
    }
   ],
   "source": [
    "for(i in names(input_data)){print(dim(input_data[[i]]))}"
   ]
  },
  {
   "cell_type": "code",
   "execution_count": 16,
   "id": "lesbian-monitor",
   "metadata": {},
   "outputs": [],
   "source": [
    "for(layer in c('gene','cnv','methylation')){\n",
    "    layer_scaled <- scale(input_data[[layer]])\n",
    "        col_removes <- apply(layer_scaled , 2, stats::var) == 0\n",
    "        input_data[[layer]] <- input_data[[layer]][,!col_removes]\n",
    "}"
   ]
  },
  {
   "cell_type": "code",
   "execution_count": 20,
   "id": "medical-audit",
   "metadata": {},
   "outputs": [
    {
     "data": {
      "text/html": [
       "<style>\n",
       ".dl-inline {width: auto; margin:0; padding: 0}\n",
       ".dl-inline>dt, .dl-inline>dd {float: none; width: auto; display: inline-block}\n",
       ".dl-inline>dt::after {content: \":\\0020\"; padding-right: .5ex}\n",
       ".dl-inline>dt:not(:first-of-type) {padding-left: .5ex}\n",
       "</style><dl class=dl-inline><dt>A2ML1</dt><dd>FALSE</dd><dt>A4GALT</dt><dd>FALSE</dd><dt>AADAT</dt><dd>FALSE</dd><dt>ABCA5</dt><dd>FALSE</dd><dt>ABCA7</dt><dd>FALSE</dd><dt>ABCA9</dt><dd>FALSE</dd></dl>\n"
      ],
      "text/latex": [
       "\\begin{description*}\n",
       "\\item[A2ML1] FALSE\n",
       "\\item[A4GALT] FALSE\n",
       "\\item[AADAT] FALSE\n",
       "\\item[ABCA5] FALSE\n",
       "\\item[ABCA7] FALSE\n",
       "\\item[ABCA9] FALSE\n",
       "\\end{description*}\n"
      ],
      "text/markdown": [
       "A2ML1\n",
       ":   FALSEA4GALT\n",
       ":   FALSEAADAT\n",
       ":   FALSEABCA5\n",
       ":   FALSEABCA7\n",
       ":   FALSEABCA9\n",
       ":   FALSE\n",
       "\n"
      ],
      "text/plain": [
       " A2ML1 A4GALT  AADAT  ABCA5  ABCA7  ABCA9 \n",
       " FALSE  FALSE  FALSE  FALSE  FALSE  FALSE "
      ]
     },
     "metadata": {},
     "output_type": "display_data"
    }
   ],
   "source": [
    "head(col_removes)"
   ]
  },
  {
   "cell_type": "code",
   "execution_count": null,
   "id": "cardiac-vietnam",
   "metadata": {},
   "outputs": [],
   "source": [
    "layer_scaled <- scale(input_data[[layer]])\n",
    "col_removes <- apply(layer_scaled , 2, stats::var) == 0\n",
    "input_data[[layer]] <- input_data[[layer]][,!col_removes]"
   ]
  },
  {
   "cell_type": "code",
   "execution_count": 17,
   "id": "sustainable-participant",
   "metadata": {},
   "outputs": [
    {
     "name": "stdout",
     "output_type": "stream",
     "text": [
      "[1]   604 11530\n",
      "[1]  604 1366\n",
      "[1] 604  84\n",
      "[1] 604   2\n"
     ]
    }
   ],
   "source": [
    "for(i in names(input_data)){print(dim(input_data[[i]]))}"
   ]
  },
  {
   "cell_type": "code",
   "execution_count": 56,
   "id": "standing-brain",
   "metadata": {},
   "outputs": [],
   "source": [
    "gender.two <- which(input_data[['phenotype']]$gender == 2)\n",
    "to.deletion <- sample(x = nrow(input_data[['phenotype']]), size = round(nrow(input_data[['phenotype']]) * missingness))\n",
    "    to.deletion <- ifelse(to.deletion %in% gender.two,yes = to.deletion + 1,no = to.deletion)\n",
    "    all.pos <- which(!rownames(input_data[['phenotype']]) %in% to.deletion)  \n",
    "\n",
    "    input_data[['gene']] <- input_data[['gene']][all.pos,]\n",
    "    input_data[['cnv']] <- input_data[['cnv']][all.pos,]\n",
    "    input_data[['methylation']] <- input_data[['methylation']][all.pos,]\n",
    "    input_data[['phenotype']] <- input_data[['phenotype']][all.pos,]\n",
    "    \n",
    "    for(layer in c('gene','cnv','methylation')){\n",
    "    layer_scaled <- scale(input_data[[layer]])\n",
    "        col_removes <- apply(layer_scaled , 2, stats::var) == 0\n",
    "        input_data[[layer]] <- input_data[[layer]][,!col_removes, with=FALSE]\n",
    "}"
   ]
  },
  {
   "cell_type": "code",
   "execution_count": 57,
   "id": "designing-phenomenon",
   "metadata": {},
   "outputs": [
    {
     "name": "stdout",
     "output_type": "stream",
     "text": [
      "[1]   544 11530\n",
      "[1]  544 1366\n",
      "[1] 544  84\n",
      "[1] 544   2\n"
     ]
    }
   ],
   "source": [
    "for(i in names(input_data)){print(dim(input_data[[i]]))}"
   ]
  },
  {
   "cell_type": "code",
   "execution_count": null,
   "id": "beginning-desert",
   "metadata": {},
   "outputs": [],
   "source": []
  },
  {
   "cell_type": "code",
   "execution_count": null,
   "id": "funky-packet",
   "metadata": {},
   "outputs": [],
   "source": []
  }
 ],
 "metadata": {
  "kernelspec": {
   "display_name": "R",
   "language": "R",
   "name": "ir"
  },
  "language_info": {
   "codemirror_mode": "r",
   "file_extension": ".r",
   "mimetype": "text/x-r-source",
   "name": "R",
   "pygments_lexer": "r",
   "version": "4.0.3"
  }
 },
 "nbformat": 4,
 "nbformat_minor": 5
}
