{
 "cells": [
  {
   "cell_type": "code",
   "execution_count": 1,
   "id": "geological-suspension",
   "metadata": {
    "collapsed": true,
    "jupyter": {
     "outputs_hidden": true
    }
   },
   "outputs": [
    {
     "name": "stderr",
     "output_type": "stream",
     "text": [
      "Loading required package: data.table\n",
      "\n",
      "Loading required package: dplyr\n",
      "\n",
      "\n",
      "Attaching package: 'dplyr'\n",
      "\n",
      "\n",
      "The following objects are masked from 'package:data.table':\n",
      "\n",
      "    between, first, last\n",
      "\n",
      "\n",
      "The following objects are masked from 'package:stats':\n",
      "\n",
      "    filter, lag\n",
      "\n",
      "\n",
      "The following objects are masked from 'package:base':\n",
      "\n",
      "    intersect, setdiff, setequal, union\n",
      "\n",
      "\n",
      "Loading required package: oem\n",
      "\n",
      "Loading required package: bigmemory\n",
      "\n",
      "Loading required package: foreach\n",
      "\n",
      "Loading required package: igraph\n",
      "\n",
      "\n",
      "Attaching package: 'igraph'\n",
      "\n",
      "\n",
      "The following objects are masked from 'package:dplyr':\n",
      "\n",
      "    as_data_frame, groups, union\n",
      "\n",
      "\n",
      "The following objects are masked from 'package:stats':\n",
      "\n",
      "    decompose, spectrum\n",
      "\n",
      "\n",
      "The following object is masked from 'package:base':\n",
      "\n",
      "    union\n",
      "\n",
      "\n",
      "Loading required package: doSNOW\n",
      "\n",
      "Loading required package: iterators\n",
      "\n",
      "Loading required package: snow\n",
      "\n",
      "Loading required package: tidyverse\n",
      "\n",
      "Warning message in system(\"timedatectl\", intern = TRUE):\n",
      "\"running command 'timedatectl' had status 1\"\n",
      "-- \u001b[1mAttaching packages\u001b[22m --------------------------------------------------------------------------------------------------------------------------------------------------------------------------------------------------------------------------------------- tidyverse 1.3.1 --\n",
      "\n",
      "\u001b[32mv\u001b[39m \u001b[34mggplot2\u001b[39m 3.3.3     \u001b[32mv\u001b[39m \u001b[34mpurrr  \u001b[39m 0.3.4\n",
      "\u001b[32mv\u001b[39m \u001b[34mtibble \u001b[39m 3.1.6     \u001b[32mv\u001b[39m \u001b[34mstringr\u001b[39m 1.4.0\n",
      "\u001b[32mv\u001b[39m \u001b[34mtidyr  \u001b[39m 1.2.0     \u001b[32mv\u001b[39m \u001b[34mforcats\u001b[39m 0.5.1\n",
      "\u001b[32mv\u001b[39m \u001b[34mreadr  \u001b[39m 1.4.0     \n",
      "\n",
      "-- \u001b[1mConflicts\u001b[22m ------------------------------------------------------------------------------------------------------------------------------------------------------------------------------------------------------------------------------------------ tidyverse_conflicts() --\n",
      "\u001b[31mx\u001b[39m \u001b[34mpurrr\u001b[39m::\u001b[32maccumulate()\u001b[39m     masks \u001b[34mforeach\u001b[39m::accumulate()\n",
      "\u001b[31mx\u001b[39m \u001b[34mtibble\u001b[39m::\u001b[32mas_data_frame()\u001b[39m masks \u001b[34migraph\u001b[39m::as_data_frame(), \u001b[34mdplyr\u001b[39m::as_data_frame()\n",
      "\u001b[31mx\u001b[39m \u001b[34mdplyr\u001b[39m::\u001b[32mbetween()\u001b[39m        masks \u001b[34mdata.table\u001b[39m::between()\n",
      "\u001b[31mx\u001b[39m \u001b[34mpurrr\u001b[39m::\u001b[32mcompose()\u001b[39m        masks \u001b[34migraph\u001b[39m::compose()\n",
      "\u001b[31mx\u001b[39m \u001b[34mtidyr\u001b[39m::\u001b[32mcrossing()\u001b[39m       masks \u001b[34migraph\u001b[39m::crossing()\n",
      "\u001b[31mx\u001b[39m \u001b[34mdplyr\u001b[39m::\u001b[32mfilter()\u001b[39m         masks \u001b[34mstats\u001b[39m::filter()\n",
      "\u001b[31mx\u001b[39m \u001b[34mdplyr\u001b[39m::\u001b[32mfirst()\u001b[39m          masks \u001b[34mdata.table\u001b[39m::first()\n",
      "\u001b[31mx\u001b[39m \u001b[34migraph\u001b[39m::\u001b[32mgroups()\u001b[39m        masks \u001b[34mdplyr\u001b[39m::groups()\n",
      "\u001b[31mx\u001b[39m \u001b[34mdplyr\u001b[39m::\u001b[32mlag()\u001b[39m            masks \u001b[34mstats\u001b[39m::lag()\n",
      "\u001b[31mx\u001b[39m \u001b[34mdplyr\u001b[39m::\u001b[32mlast()\u001b[39m           masks \u001b[34mdata.table\u001b[39m::last()\n",
      "\u001b[31mx\u001b[39m \u001b[34mpurrr\u001b[39m::\u001b[32msimplify()\u001b[39m       masks \u001b[34migraph\u001b[39m::simplify()\n",
      "\u001b[31mx\u001b[39m \u001b[34mpurrr\u001b[39m::\u001b[32mtranspose()\u001b[39m      masks \u001b[34mdata.table\u001b[39m::transpose()\n",
      "\u001b[31mx\u001b[39m \u001b[34mpurrr\u001b[39m::\u001b[32mwhen()\u001b[39m           masks \u001b[34mforeach\u001b[39m::when()\n",
      "\n"
     ]
    }
   ],
   "source": [
    "library(kimono)"
   ]
  },
  {
   "cell_type": "code",
   "execution_count": null,
   "id": "considered-coffee",
   "metadata": {},
   "outputs": [],
   "source": [
    "input = \"/home/icb/juan.henao/lasso_benchmark/single_omics/230222_single_omics_benchmark.RData\"\n",
    "    cores = 2\n",
    "    bench_params = c(0.4,0.01)"
   ]
  },
  {
   "cell_type": "code",
   "execution_count": null,
   "id": "floppy-microphone",
   "metadata": {},
   "outputs": [],
   "source": [
    "load(input)\n",
    "\n",
    "white_noise <- bench_params[2]\n",
    "missingness <- bench_params[1]\n",
    "\n",
    "for(iter in seq(5)){\n",
    "    set.seed(iter)\n",
    "    \n",
    "    if(white_noise != 0){\n",
    "        input_data[[\"gene\"]] <- input_data[[\"gene\"]] + matrix(rnorm(nrow(input_data[[\"gene\"]])*ncol(input_data[[\"gene\"]]),mean = 0,sd = white_noise),nrow = nrow(input_data[[\"gene\"]]),ncol=ncol(input_data[[\"gene\"]]))\n",
    "  }\n",
    "    \n",
    "    dat <- as.matrix(input_data[[\"gene\"]])\n",
    "    n <- round(length(dat) * missingness)\n",
    "    positions_sample <- sample(x = length(dat), size = n)\n",
    "    dat[positions_sample] <- NA\n",
    "    input_data[[\"gene\"]] <- setDT(as.data.frame(dat))\n",
    "    network <- kimono(input_data, prior_network ,core = cores, infer_missing_prior = FALSE)\n",
    "    write.csv(network,paste0(\"so_experiment_noise_\",white_noise,\"_missing_\",missingness,\"_iteration_\",iter,\".csv\"), quote = FALSE, row.names = FALSE)\n",
    "}"
   ]
  },
  {
   "cell_type": "code",
   "execution_count": null,
   "id": "genuine-regard",
   "metadata": {},
   "outputs": [],
   "source": []
  },
  {
   "cell_type": "code",
   "execution_count": null,
   "id": "institutional-choice",
   "metadata": {},
   "outputs": [],
   "source": []
  },
  {
   "cell_type": "code",
   "execution_count": null,
   "id": "overall-trouble",
   "metadata": {},
   "outputs": [],
   "source": []
  },
  {
   "cell_type": "code",
   "execution_count": null,
   "id": "backed-leone",
   "metadata": {},
   "outputs": [],
   "source": []
  },
  {
   "cell_type": "code",
   "execution_count": null,
   "id": "critical-palace",
   "metadata": {},
   "outputs": [],
   "source": []
  }
 ],
 "metadata": {
  "kernelspec": {
   "display_name": "R",
   "language": "R",
   "name": "ir"
  },
  "language_info": {
   "codemirror_mode": "r",
   "file_extension": ".r",
   "mimetype": "text/x-r-source",
   "name": "R",
   "pygments_lexer": "r",
   "version": "4.0.3"
  }
 },
 "nbformat": 4,
 "nbformat_minor": 5
}
