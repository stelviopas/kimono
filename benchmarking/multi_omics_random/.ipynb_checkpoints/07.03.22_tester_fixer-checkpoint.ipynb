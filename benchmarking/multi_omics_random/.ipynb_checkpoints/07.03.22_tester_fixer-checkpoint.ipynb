{
 "cells": [
  {
   "cell_type": "code",
   "execution_count": 1,
   "id": "dirty-pound",
   "metadata": {},
   "outputs": [],
   "source": [
    "library(data.table)"
   ]
  },
  {
   "cell_type": "code",
   "execution_count": 13,
   "id": "fancy-contributor",
   "metadata": {},
   "outputs": [],
   "source": [
    "input = \"/home/icb/juan.henao/lasso_benchmark/multi_omics_random/240222_multi_omics_benchmark.RData\"\n",
    "    cores = 30\n",
    "    bench_params = c(0.0,0.2)"
   ]
  },
  {
   "cell_type": "code",
   "execution_count": 14,
   "id": "right-customs",
   "metadata": {},
   "outputs": [],
   "source": [
    "load(input)\n",
    "\n",
    "white_noise <- bench_params[2]\n",
    "missingness <- bench_params[1]\n",
    "\n"
   ]
  },
  {
   "cell_type": "code",
   "execution_count": 27,
   "id": "enabling-performance",
   "metadata": {},
   "outputs": [],
   "source": [
    "if(white_noise != 0){\n",
    "        input_data[[\"gene\"]] <- input_data[[\"gene\"]] + matrix(rnorm(nrow(input_data[[\"gene\"]])*ncol(input_data[[\"gene\"]]),mean = 0,sd = white_noise),nrow = nrow(input_data[[\"gene\"]]),ncol=ncol(input_data[[\"gene\"]]))\n",
    "        input_data[[\"cnv\"]] <- input_data[[\"cnv\"]] + matrix(rnorm(nrow(input_data[[\"cnv\"]])*ncol(input_data[[\"cnv\"]]),mean = 0,sd = white_noise),nrow = nrow(input_data[[\"cnv\"]]),ncol=ncol(input_data[[\"cnv\"]]))\n",
    "        \n",
    "        pre.methylation <- round(input_data[[\"methylation\"]] + matrix(rnorm(nrow(input_data[[\"methylation\"]])*ncol(input_data[[\"methylation\"]]),mean = 0,sd = white_noise),nrow = nrow(input_data[[\"methylation\"]]),ncol=ncol(input_data[[\"methylation\"]])))\n",
    "        input_data[['methylation']] <- ifelse(pre.methylation <= white_noise/2,yes = 0, no = 1)\n",
    "    \n",
    "    input_data[[\"gene\"]] <- setDT(input_data[[\"gene\"]])\n",
    "    input_data[[\"cnv\"]] <- setDT(input_data[[\"cnv\"]])\n",
    "    \n",
    "    input_data[['methylation']] <- setDT(as.data.frame(input_data[['methylation']]))\n",
    "  }\n",
    "\n",
    "    \n",
    "    \n",
    "    \n",
    "    "
   ]
  },
  {
   "cell_type": "code",
   "execution_count": 30,
   "id": "associate-canadian",
   "metadata": {},
   "outputs": [
    {
     "data": {
      "text/html": [
       "<style>\n",
       ".list-inline {list-style: none; margin:0; padding: 0}\n",
       ".list-inline>li {display: inline-block}\n",
       ".list-inline>li:not(:last-child)::after {content: \"\\00b7\"; padding: 0 .5ex}\n",
       "</style>\n",
       "<ol class=list-inline><li>'data.table'</li><li>'data.frame'</li></ol>\n"
      ],
      "text/latex": [
       "\\begin{enumerate*}\n",
       "\\item 'data.table'\n",
       "\\item 'data.frame'\n",
       "\\end{enumerate*}\n"
      ],
      "text/markdown": [
       "1. 'data.table'\n",
       "2. 'data.frame'\n",
       "\n",
       "\n"
      ],
      "text/plain": [
       "[1] \"data.table\" \"data.frame\""
      ]
     },
     "metadata": {},
     "output_type": "display_data"
    }
   ],
   "source": [
    "class(input_data[['cnv']])"
   ]
  },
  {
   "cell_type": "code",
   "execution_count": 12,
   "id": "settled-layer",
   "metadata": {},
   "outputs": [],
   "source": [
    "if(missingness != 0){\n",
    "        for(layer in c('gene','methylation','cnv')){\n",
    "        dat <- as.matrix(input_data[[layer]])\n",
    "        n <- round(length(dat) * missingness)\n",
    "        positions_sample <- sample(x = length(dat), size = n)\n",
    "        dat[positions_sample] <- NA\n",
    "        input_data[[layer]] <- setDT(as.data.frame(dat))\n",
    "    }\n",
    "    }"
   ]
  },
  {
   "cell_type": "code",
   "execution_count": 7,
   "id": "precious-ethics",
   "metadata": {},
   "outputs": [
    {
     "data": {
      "text/html": [
       "<style>\n",
       ".list-inline {list-style: none; margin:0; padding: 0}\n",
       ".list-inline>li {display: inline-block}\n",
       ".list-inline>li:not(:last-child)::after {content: \"\\00b7\"; padding: 0 .5ex}\n",
       "</style>\n",
       "<ol class=list-inline><li>'data.table'</li><li>'data.frame'</li></ol>\n"
      ],
      "text/latex": [
       "\\begin{enumerate*}\n",
       "\\item 'data.table'\n",
       "\\item 'data.frame'\n",
       "\\end{enumerate*}\n"
      ],
      "text/markdown": [
       "1. 'data.table'\n",
       "2. 'data.frame'\n",
       "\n",
       "\n"
      ],
      "text/plain": [
       "[1] \"data.table\" \"data.frame\""
      ]
     },
     "metadata": {},
     "output_type": "display_data"
    }
   ],
   "source": [
    "class(input_data[['gene']])"
   ]
  },
  {
   "cell_type": "code",
   "execution_count": null,
   "id": "likely-modeling",
   "metadata": {},
   "outputs": [],
   "source": [
    "network <- kimono(input_data, prior_network ,core = cores, infer_missing_prior = FALSE)\n",
    "    write.csv(network,paste0(\"moran_experiment_noise_\",white_noise,\"_missing_\",missingness,\"_iteration_\",iter,\".csv\"), quote = FALSE, row.names = FALSE)\n"
   ]
  }
 ],
 "metadata": {
  "kernelspec": {
   "display_name": "R",
   "language": "R",
   "name": "ir"
  },
  "language_info": {
   "codemirror_mode": "r",
   "file_extension": ".r",
   "mimetype": "text/x-r-source",
   "name": "R",
   "pygments_lexer": "r",
   "version": "4.0.3"
  }
 },
 "nbformat": 4,
 "nbformat_minor": 5
}
