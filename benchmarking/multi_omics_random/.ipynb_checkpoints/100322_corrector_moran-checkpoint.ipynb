{
 "cells": [
  {
   "cell_type": "code",
   "execution_count": 1,
   "id": "conventional-alabama",
   "metadata": {
    "collapsed": true,
    "jupyter": {
     "outputs_hidden": true
    }
   },
   "outputs": [
    {
     "name": "stderr",
     "output_type": "stream",
     "text": [
      "Loading required package: data.table\n",
      "\n",
      "Loading required package: dplyr\n",
      "\n",
      "\n",
      "Attaching package: 'dplyr'\n",
      "\n",
      "\n",
      "The following objects are masked from 'package:data.table':\n",
      "\n",
      "    between, first, last\n",
      "\n",
      "\n",
      "The following objects are masked from 'package:stats':\n",
      "\n",
      "    filter, lag\n",
      "\n",
      "\n",
      "The following objects are masked from 'package:base':\n",
      "\n",
      "    intersect, setdiff, setequal, union\n",
      "\n",
      "\n",
      "Loading required package: oem\n",
      "\n",
      "Loading required package: bigmemory\n",
      "\n",
      "Loading required package: foreach\n",
      "\n",
      "Loading required package: igraph\n",
      "\n",
      "\n",
      "Attaching package: 'igraph'\n",
      "\n",
      "\n",
      "The following objects are masked from 'package:dplyr':\n",
      "\n",
      "    as_data_frame, groups, union\n",
      "\n",
      "\n",
      "The following objects are masked from 'package:stats':\n",
      "\n",
      "    decompose, spectrum\n",
      "\n",
      "\n",
      "The following object is masked from 'package:base':\n",
      "\n",
      "    union\n",
      "\n",
      "\n",
      "Loading required package: doSNOW\n",
      "\n",
      "Loading required package: iterators\n",
      "\n",
      "Loading required package: snow\n",
      "\n",
      "Loading required package: tidyverse\n",
      "\n",
      "Warning message in system(\"timedatectl\", intern = TRUE):\n",
      "\"running command 'timedatectl' had status 1\"\n",
      "-- \u001b[1mAttaching packages\u001b[22m ---------------------------------------------------------------------------------------------------------------------------------------------------------------- tidyverse 1.3.1 --\n",
      "\n",
      "\u001b[32mv\u001b[39m \u001b[34mggplot2\u001b[39m 3.3.5     \u001b[32mv\u001b[39m \u001b[34mpurrr  \u001b[39m 0.3.4\n",
      "\u001b[32mv\u001b[39m \u001b[34mtibble \u001b[39m 3.1.6     \u001b[32mv\u001b[39m \u001b[34mstringr\u001b[39m 1.4.0\n",
      "\u001b[32mv\u001b[39m \u001b[34mtidyr  \u001b[39m 1.2.0     \u001b[32mv\u001b[39m \u001b[34mforcats\u001b[39m 0.5.1\n",
      "\u001b[32mv\u001b[39m \u001b[34mreadr  \u001b[39m 1.4.0     \n",
      "\n",
      "-- \u001b[1mConflicts\u001b[22m ------------------------------------------------------------------------------------------------------------------------------------------------------------------- tidyverse_conflicts() --\n",
      "\u001b[31mx\u001b[39m \u001b[34mpurrr\u001b[39m::\u001b[32maccumulate()\u001b[39m     masks \u001b[34mforeach\u001b[39m::accumulate()\n",
      "\u001b[31mx\u001b[39m \u001b[34mtibble\u001b[39m::\u001b[32mas_data_frame()\u001b[39m masks \u001b[34migraph\u001b[39m::as_data_frame(), \u001b[34mdplyr\u001b[39m::as_data_frame()\n",
      "\u001b[31mx\u001b[39m \u001b[34mdplyr\u001b[39m::\u001b[32mbetween()\u001b[39m        masks \u001b[34mdata.table\u001b[39m::between()\n",
      "\u001b[31mx\u001b[39m \u001b[34mpurrr\u001b[39m::\u001b[32mcompose()\u001b[39m        masks \u001b[34migraph\u001b[39m::compose()\n",
      "\u001b[31mx\u001b[39m \u001b[34mtidyr\u001b[39m::\u001b[32mcrossing()\u001b[39m       masks \u001b[34migraph\u001b[39m::crossing()\n",
      "\u001b[31mx\u001b[39m \u001b[34mdplyr\u001b[39m::\u001b[32mfilter()\u001b[39m         masks \u001b[34mstats\u001b[39m::filter()\n",
      "\u001b[31mx\u001b[39m \u001b[34mdplyr\u001b[39m::\u001b[32mfirst()\u001b[39m          masks \u001b[34mdata.table\u001b[39m::first()\n",
      "\u001b[31mx\u001b[39m \u001b[34migraph\u001b[39m::\u001b[32mgroups()\u001b[39m        masks \u001b[34mdplyr\u001b[39m::groups()\n",
      "\u001b[31mx\u001b[39m \u001b[34mdplyr\u001b[39m::\u001b[32mlag()\u001b[39m            masks \u001b[34mstats\u001b[39m::lag()\n",
      "\u001b[31mx\u001b[39m \u001b[34mdplyr\u001b[39m::\u001b[32mlast()\u001b[39m           masks \u001b[34mdata.table\u001b[39m::last()\n",
      "\u001b[31mx\u001b[39m \u001b[34mpurrr\u001b[39m::\u001b[32msimplify()\u001b[39m       masks \u001b[34migraph\u001b[39m::simplify()\n",
      "\u001b[31mx\u001b[39m \u001b[34mpurrr\u001b[39m::\u001b[32mtranspose()\u001b[39m      masks \u001b[34mdata.table\u001b[39m::transpose()\n",
      "\u001b[31mx\u001b[39m \u001b[34mpurrr\u001b[39m::\u001b[32mwhen()\u001b[39m           masks \u001b[34mforeach\u001b[39m::when()\n",
      "\n"
     ]
    }
   ],
   "source": [
    "library(kimono)"
   ]
  },
  {
   "cell_type": "code",
   "execution_count": 6,
   "id": "fallen-electricity",
   "metadata": {},
   "outputs": [],
   "source": [
    "input = \"/home/icb/juan.henao/lasso_benchmark/input_data/100322_multi_omics_benchmark.RData\"\n",
    "    cores = 2\n",
    "    bench_params = c(0.30,1.5)"
   ]
  },
  {
   "cell_type": "code",
   "execution_count": 7,
   "id": "different-airline",
   "metadata": {},
   "outputs": [
    {
     "name": "stdout",
     "output_type": "stream",
     "text": [
      "1) input data:\n",
      "layer - samples - features - prior features\n",
      "gene  -  604  -  11530  - 44688 \n",
      "methylation  -  604  -  1366  - 713 \n",
      "cnv  -  604  -  84  - 84 \n",
      "phenotype  -  604  -  2  - 0\n",
      "\n",
      "2) inference:\n",
      " for layers  gene methylation cnv \n",
      "2022-03-10 23:45:30 starting inference of  11645  models\n",
      "  |======================================================================| 100%\n"
     ]
    },
    {
     "ename": "ERROR",
     "evalue": "Error in if (nrow(result) == 0) {: argument is of length zero\n",
     "output_type": "error",
     "traceback": [
      "Error in if (nrow(result) == 0) {: argument is of length zero\nTraceback:\n",
      "1. kimono(input_data, prior_network, core = cores, infer_missing_prior = FALSE)"
     ]
    }
   ],
   "source": [
    "\n",
    "\n",
    "white_noise <- bench_params[2]\n",
    "missingness <- bench_params[1]\n",
    "\n",
    "for(iter in seq(5)){\n",
    "    load(input)\n",
    "    set.seed(iter)\n",
    "    \n",
    "    if(white_noise != 0){\n",
    "    for(layer in c(\"gene\",\"cnv\",\"methylation\")){\n",
    "        sds_matrix <- matrix(0,nrow = nrow(input_data[[layer]]),ncol=ncol(input_data[[layer]]))\n",
    "    sds <- apply(as.matrix(input_data[[layer]]),2,sd)\n",
    "    for(x in seq(length(sds))){\n",
    "    sds_matrix[,x] <- rnorm(n = nrow(input_data[[layer]]),mean = 0, sd = sds[x] * white_noise)\n",
    "    }\n",
    "    input_data[[layer]] <- input_data[[layer]] + sds_matrix\n",
    "    \n",
    "    input_data[[layer]] <- setDT(input_data[[layer]])\n",
    "    }\n",
    "    pre.methylation <- as.matrix(input_data[['methylation']])\n",
    "    pre.methylation[which(pre.methylation < 0)] <- 0\n",
    "    pre.methylation[which(pre.methylation > 1)] <- 1\n",
    "    input_data[['methylation']] <- setDT(as.data.frame(pre.methylation))\n",
    "    }\n",
    "\n",
    "    if(missingness != 0){\n",
    "        for(layer in c('gene','methylation','cnv')){\n",
    "        dat <- as.matrix(input_data[[layer]])\n",
    "        n <- round(length(dat) * missingness)\n",
    "        positions_sample <- sample(x = length(dat), size = n)\n",
    "        dat[positions_sample] <- NA\n",
    "        input_data[[layer]] <- setDT(as.data.frame(dat))\n",
    "    }\n",
    "    }\n",
    "    \n",
    "    \n",
    "    network <- kimono(input_data, prior_network ,core = cores, infer_missing_prior = FALSE)\n",
    "    write.csv(network,paste0(\"moran_experiment_noise_\",white_noise,\"_missing_\",missingness,\"_iteration_\",iter,\".csv\"), quote = FALSE, row.names = FALSE)\n",
    "}"
   ]
  }
 ],
 "metadata": {
  "kernelspec": {
   "display_name": "R",
   "language": "R",
   "name": "ir"
  },
  "language_info": {
   "codemirror_mode": "r",
   "file_extension": ".r",
   "mimetype": "text/x-r-source",
   "name": "R",
   "pygments_lexer": "r",
   "version": "4.0.3"
  }
 },
 "nbformat": 4,
 "nbformat_minor": 5
}
